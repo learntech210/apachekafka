{
 "cells": [
  {
   "cell_type": "code",
   "execution_count": 1,
   "id": "9b326e0e-b2ab-4d0a-b789-68ea7a907293",
   "metadata": {},
   "outputs": [],
   "source": [
    "from kafka import KafkaConsumer\n",
    "import json\n",
    "import requests\n"
   ]
  },
  {
   "cell_type": "code",
   "execution_count": 2,
   "id": "76347612-d2a1-4d68-b9b3-eaff922258d8",
   "metadata": {},
   "outputs": [],
   "source": [
    "# Elasticsearch endpoint\n",
    "ELASTICSEARCH_URL = \"http://localhost:9200/twitter/_doc/\"\n",
    "# Kafka Consumer\n",
    "consumer = KafkaConsumer(\n",
    "    \"twitter-stream\",\n",
    "    bootstrap_servers=\"localhost:9092\",\n",
    "    auto_offset_reset=\"earliest\",\n",
    "    value_deserializer=lambda x: json.loads(x.decode(\"utf-8\"))\n",
    ")"
   ]
  },
  {
   "cell_type": "code",
   "execution_count": null,
   "id": "4d5f4739-4f92-4abe-8c8f-38064f917877",
   "metadata": {},
   "outputs": [
    {
     "name": "stdout",
     "output_type": "stream",
     "text": [
      "Listening for tweets...\n"
     ]
    }
   ],
   "source": [
    "print(\"Listening for tweets...\")\n",
    "for message in consumer:\n",
    "    tweet = message.value\n",
    "    print(f\"Received tweet: {tweet}\")\n",
    "    # Send tweet to Elasticsearch\n",
    "    response = requests.post(ELASTICSEARCH_URL, json=tweet)\n",
    "    print(f\"Elasticsearch response: {response.json()}\")"
   ]
  },
  {
   "cell_type": "code",
   "execution_count": null,
   "id": "62c46f0a-f1b2-4912-8c53-bd0745c915f9",
   "metadata": {},
   "outputs": [],
   "source": []
  },
  {
   "cell_type": "code",
   "execution_count": null,
   "id": "8b963478-7878-4e01-a5d7-5e02ed00fb11",
   "metadata": {},
   "outputs": [],
   "source": []
  },
  {
   "cell_type": "code",
   "execution_count": null,
   "id": "0adfa62c-6e51-418b-82ed-fa3303996ba9",
   "metadata": {},
   "outputs": [],
   "source": []
  }
 ],
 "metadata": {
  "kernelspec": {
   "display_name": "Python 3 (ipykernel)",
   "language": "python",
   "name": "python3"
  },
  "language_info": {
   "codemirror_mode": {
    "name": "ipython",
    "version": 3
   },
   "file_extension": ".py",
   "mimetype": "text/x-python",
   "name": "python",
   "nbconvert_exporter": "python",
   "pygments_lexer": "ipython3",
   "version": "3.11.9"
  }
 },
 "nbformat": 4,
 "nbformat_minor": 5
}

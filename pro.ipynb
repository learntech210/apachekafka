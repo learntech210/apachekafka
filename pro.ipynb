{
 "cells": [
  {
   "cell_type": "code",
   "execution_count": 1,
   "id": "c581aaaa-1a08-421c-9222-ffc6da8bc0b0",
   "metadata": {},
   "outputs": [
    {
     "name": "stdout",
     "output_type": "stream",
     "text": [
      "Requirement already satisfied: kafka-python in c:\\users\\hsbc\\appdata\\local\\packages\\pythonsoftwarefoundation.python.3.11_qbz5n2kfra8p0\\localcache\\local-packages\\python311\\site-packages (2.1.5)\n",
      "Note: you may need to restart the kernel to use updated packages.\n"
     ]
    }
   ],
   "source": [
    "%pip install kafka-python"
   ]
  },
  {
   "cell_type": "code",
   "execution_count": 2,
   "id": "cf35e1c2-c929-4a44-bc32-047d0c0d3d2e",
   "metadata": {},
   "outputs": [
    {
     "name": "stdout",
     "output_type": "stream",
     "text": [
      "Requirement already satisfied: kafka-python in c:\\users\\hsbc\\appdata\\local\\packages\\pythonsoftwarefoundation.python.3.11_qbz5n2kfra8p0\\localcache\\local-packages\\python311\\site-packages (2.1.5)\n",
      "Note: you may need to restart the kernel to use updated packages.\n"
     ]
    }
   ],
   "source": [
    "pip install -U kafka-python"
   ]
  },
  {
   "cell_type": "code",
   "execution_count": 3,
   "id": "a988f26a-d807-4eaf-8b13-a37b2348ac7e",
   "metadata": {},
   "outputs": [],
   "source": [
    "\n",
    "from kafka import KafkaProducer\n"
   ]
  },
  {
   "cell_type": "code",
   "execution_count": 4,
   "id": "5e8d8dc7-7fe0-41b7-a208-072693d7d74d",
   "metadata": {},
   "outputs": [],
   "source": [
    "from time import sleep\n",
    "import json\n",
    "from datetime import datetime"
   ]
  },
  {
   "cell_type": "code",
   "execution_count": 5,
   "id": "021b9e99-46bb-444d-93a0-1cc71d5f3122",
   "metadata": {},
   "outputs": [],
   "source": [
    "#by default is JSON serializer\n",
    "producer = KafkaProducer(bootstrap_servers=['localhost:9092'],api_version=(0,10,1))"
   ]
  },
  {
   "cell_type": "code",
   "execution_count": 6,
   "id": "2748a053-7c9a-47eb-97ba-295c1ce7e393",
   "metadata": {},
   "outputs": [
    {
     "data": {
      "text/plain": [
       "<kafka.producer.future.FutureRecordMetadata at 0x2868910b590>"
      ]
     },
     "execution_count": 6,
     "metadata": {},
     "output_type": "execute_result"
    }
   ],
   "source": [
    "#topic name is mydearkafka\n",
    "producer.send('test',b'hello, kafka')\n",
    "#now goto consumer terminal and check message"
   ]
  },
  {
   "cell_type": "code",
   "execution_count": 7,
   "id": "0033552f-16f7-4246-9572-12be492ed9d2",
   "metadata": {},
   "outputs": [],
   "source": [
    "now=datetime.now()"
   ]
  },
  {
   "cell_type": "code",
   "execution_count": 8,
   "id": "8861d222-60f9-4b26-a005-b00b6452300a",
   "metadata": {},
   "outputs": [
    {
     "data": {
      "text/plain": [
       "datetime.datetime(2025, 4, 8, 13, 12, 55, 698572)"
      ]
     },
     "execution_count": 8,
     "metadata": {},
     "output_type": "execute_result"
    }
   ],
   "source": [
    "now"
   ]
  },
  {
   "cell_type": "code",
   "execution_count": 9,
   "id": "88661bb6-45e5-4940-a68f-d249432e703a",
   "metadata": {},
   "outputs": [
    {
     "data": {
      "text/plain": [
       "'08/04/2025 13:12:55'"
      ]
     },
     "execution_count": 9,
     "metadata": {},
     "output_type": "execute_result"
    }
   ],
   "source": [
    "current_time=now.strftime(\"%d/%m/%Y %H:%M:%S\")\n",
    "current_time"
   ]
  },
  {
   "cell_type": "code",
   "execution_count": 10,
   "id": "733d36eb-9002-4c18-a50c-49ad3499637d",
   "metadata": {},
   "outputs": [
    {
     "name": "stdout",
     "output_type": "stream",
     "text": [
      "message sent 0\n",
      "message sent 1\n",
      "message sent 2\n",
      "message sent 3\n",
      "message sent 4\n",
      "message sent 5\n",
      "message sent 6\n",
      "message sent 7\n",
      "message sent 8\n",
      "message sent 9\n"
     ]
    }
   ],
   "source": [
    "for i in range(10):\n",
    "    message=\"message {}\".format(str(datetime.now().time()))\n",
    "    producer.send('test',json.dumps(message).encode('utf-8'))\n",
    "    sleep(2)\n",
    "    print(\"message sent\",i)"
   ]
  },
  {
   "cell_type": "code",
   "execution_count": 9,
   "id": "d26b6fbe-cf3c-413b-9031-9e458aaeac0c",
   "metadata": {},
   "outputs": [],
   "source": [
    "#producer.close()"
   ]
  },
  {
   "cell_type": "code",
   "execution_count": null,
   "id": "86d949f0-55b8-4076-a7dc-e4be459cdc2e",
   "metadata": {},
   "outputs": [],
   "source": []
  }
 ],
 "metadata": {
  "kernelspec": {
   "display_name": "Python 3 (ipykernel)",
   "language": "python",
   "name": "python3"
  },
  "language_info": {
   "codemirror_mode": {
    "name": "ipython",
    "version": 3
   },
   "file_extension": ".py",
   "mimetype": "text/x-python",
   "name": "python",
   "nbconvert_exporter": "python",
   "pygments_lexer": "ipython3",
   "version": "3.11.9"
  }
 },
 "nbformat": 4,
 "nbformat_minor": 5
}

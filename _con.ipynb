{
 "cells": [
  {
   "cell_type": "code",
   "execution_count": 1,
   "id": "e92c975f-2f02-402c-8ca2-6fd32cb04297",
   "metadata": {},
   "outputs": [],
   "source": [
    "from kafka import KafkaConsumer\n",
    "from json import loads\n",
    "import json"
   ]
  },
  {
   "cell_type": "code",
   "execution_count": 2,
   "id": "c9c9db6b-1d51-4db6-a8c2-c44506e71985",
   "metadata": {},
   "outputs": [],
   "source": [
    "consumer = KafkaConsumer('test',bootstrap_servers=['localhost:9092'],api_version=(0,10))"
   ]
  },
  {
   "cell_type": "code",
   "execution_count": null,
   "id": "7cd838f2-3c15-4031-afd7-74ce3e77eb16",
   "metadata": {},
   "outputs": [],
   "source": [
    "for message in consumer:\n",
    "    print(message.value)"
   ]
  },
  {
   "cell_type": "code",
   "execution_count": null,
   "id": "4b87d78b-8ea4-42a5-b168-50eb587fbe8d",
   "metadata": {},
   "outputs": [],
   "source": []
  }
 ],
 "metadata": {
  "kernelspec": {
   "display_name": "Python 3 (ipykernel)",
   "language": "python",
   "name": "python3"
  },
  "language_info": {
   "codemirror_mode": {
    "name": "ipython",
    "version": 3
   },
   "file_extension": ".py",
   "mimetype": "text/x-python",
   "name": "python",
   "nbconvert_exporter": "python",
   "pygments_lexer": "ipython3",
   "version": "3.11.9"
  }
 },
 "nbformat": 4,
 "nbformat_minor": 5
}
